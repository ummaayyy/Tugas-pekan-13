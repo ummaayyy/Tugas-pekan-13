{
  "nbformat": 4,
  "nbformat_minor": 0,
  "metadata": {
    "colab": {
      "name": "Pekan13.ipynb",
      "provenance": [],
      "collapsed_sections": [],
      "authorship_tag": "ABX9TyObGli2/X7SOLeuYci7Mky7",
      "include_colab_link": true
    },
    "kernelspec": {
      "name": "python3",
      "display_name": "Python 3"
    },
    "language_info": {
      "name": "python"
    }
  },
  "cells": [
    {
      "cell_type": "markdown",
      "metadata": {
        "id": "view-in-github",
        "colab_type": "text"
      },
      "source": [
        "<a href=\"https://colab.research.google.com/github/ummaayyy/Tugas-pekan-13/blob/main/Pekan13.ipynb\" target=\"_parent\"><img src=\"https://colab.research.google.com/assets/colab-badge.svg\" alt=\"Open In Colab\"/></a>"
      ]
    },
    {
      "cell_type": "markdown",
      "source": [
        "Nama : Ummi Hajar\n",
        "\n",
        "Nim  : H051211019\n",
        "\n",
        "Algoritma dan Pemrograman Statistika A"
      ],
      "metadata": {
        "id": "nL5o8l9reSw0"
      }
    },
    {
      "cell_type": "markdown",
      "source": [
        "**Penjumlahan matriks**"
      ],
      "metadata": {
        "id": "7JewEekogo25"
      }
    },
    {
      "cell_type": "code",
      "source": [
        "MatA = [\n",
        "    [4, 6, 5],\n",
        "    [3, 0, 0]\n",
        "]\n",
        "MatB =  [\n",
        "    [3, 9, 7],\n",
        "    [3, 1, 5]\n",
        "]\n",
        "for x in range(0, len(MatA)):\n",
        "    for y in range (0, len(MatA[0])):\n",
        "        print (MatA[x][y] + MatB[x][y], end=' '),\n",
        "    print ()"
      ],
      "metadata": {
        "colab": {
          "base_uri": "https://localhost:8080/"
        },
        "id": "rNNm5z2Xgpgl",
        "outputId": "61344040-ea05-4380-c2b7-b21458002f32"
      },
      "execution_count": null,
      "outputs": [
        {
          "output_type": "stream",
          "name": "stdout",
          "text": [
            "7 15 12 \n",
            "6 1 5 \n"
          ]
        }
      ]
    },
    {
      "cell_type": "markdown",
      "source": [
        "**Nomor 1**"
      ],
      "metadata": {
        "id": "t4zS-D6kis1z"
      }
    },
    {
      "cell_type": "code",
      "source": [
        "print(\" ---Abon Umi---\")\n",
        "\n",
        "harga = int(input(\"masukkan harga barang: \"))\n",
        "jumlah = int(input(\"masukkan jumlah barang yang dibeli: \"))\n",
        "Total = harga*jumlah\n",
        "print(\"Total Harga = \", \"Rp.\", Total)\n",
        "Bayar = int(input(\"Jumlah Nominal Uang =\" ))\n",
        "Kembalian = (Bayar-Total)\n",
        "print(\"Uang Kembalian = \", \"Rp.\", Kembalian)"
      ],
      "metadata": {
        "colab": {
          "base_uri": "https://localhost:8080/"
        },
        "id": "Q2zcErD-TuU8",
        "outputId": "38d8c8bc-4419-42d8-ba58-268b7aa2f828"
      },
      "execution_count": 49,
      "outputs": [
        {
          "output_type": "stream",
          "name": "stdout",
          "text": [
            " ---Abon Umi---\n",
            "masukkan harga barang: 15000\n",
            "masukkan jumlah barang yang dibeli: 4\n",
            "Total Harga =  Rp. 60000\n",
            "Jumlah Nominal Uang =100000\n",
            "Uang Kembalian =  Rp. 40000\n"
          ]
        }
      ]
    },
    {
      "cell_type": "code",
      "source": [
        "nama_brg = input(\"nama barang = \")\n",
        "harga_satuan = eval(input((\"harga barang = \")))\n",
        "jum_brg = eval(input((\"jumlah barang = \")))\n",
        "total_hrg_brg = 0.0\n",
        "harga_beli = jum_brg * harga_satuan\n",
        "total_hrg_brg = harga_beli + total_hrg_brg\n",
        "print(\"Total Harga yang dibayar Rp\", total_hrg_brg)"
      ],
      "metadata": {
        "colab": {
          "base_uri": "https://localhost:8080/"
        },
        "id": "lTtpSchn90dB",
        "outputId": "4c4049e5-a2dd-4e1b-bdde-3251c9cb8478"
      },
      "execution_count": null,
      "outputs": [
        {
          "output_type": "stream",
          "name": "stdout",
          "text": [
            "nama barang = abon\n",
            "harga barang = 15000\n",
            "jumlah barang = 4\n",
            "Total Harga yang dibayar Rp 60000.0\n"
          ]
        }
      ]
    },
    {
      "cell_type": "markdown",
      "source": [
        "**Nomor 2**"
      ],
      "metadata": {
        "id": "ts-3Mbw5upRn"
      }
    },
    {
      "cell_type": "code",
      "source": [
        "count = 0\n",
        "countt = 0\n",
        "for i in [1,5,2,7,4,3,15] :\n",
        "  if i%2 == 0 :\n",
        "    count = count + 1\n",
        "  else :\n",
        "    countt = countt + 1\n",
        "print('Banyak bilangan genap adalah %d bilangan' %count)\n",
        "print('Banyak bilangan ganjil adalah %d bilangan' %countt)"
      ],
      "metadata": {
        "colab": {
          "base_uri": "https://localhost:8080/"
        },
        "id": "zfk54KbCureQ",
        "outputId": "c7f8e0be-5a22-488e-ea21-50424132f74e"
      },
      "execution_count": null,
      "outputs": [
        {
          "output_type": "stream",
          "name": "stdout",
          "text": [
            "Banyak bilangan genap adalah 2 bilangan\n",
            "Banyak bilangan ganjil adalah 5 bilangan\n"
          ]
        }
      ]
    },
    {
      "cell_type": "markdown",
      "source": [
        "**Nomor 3**"
      ],
      "metadata": {
        "id": "BZTjFkKv9Upx"
      }
    },
    {
      "cell_type": "code",
      "source": [
        "i = 12  #dimulai dari angka 12\n",
        "while i < 100:  #angka yang tercetak tidak melebihi 100\n",
        "  print(i)  #menjalankan sintaks\n",
        "  i = i + 3  #perulangan dari angka 12+3 seterusnya, sampai pada angka yang kurang dari 100"
      ],
      "metadata": {
        "colab": {
          "base_uri": "https://localhost:8080/"
        },
        "id": "ASEL_Wpd8qtQ",
        "outputId": "7303c355-8c1c-4879-a58c-6ec886c32a13"
      },
      "execution_count": null,
      "outputs": [
        {
          "output_type": "stream",
          "name": "stdout",
          "text": [
            "12\n",
            "15\n",
            "18\n",
            "21\n",
            "24\n",
            "27\n",
            "30\n",
            "33\n",
            "36\n",
            "39\n",
            "42\n",
            "45\n",
            "48\n",
            "51\n",
            "54\n",
            "57\n",
            "60\n",
            "63\n",
            "66\n",
            "69\n",
            "72\n",
            "75\n",
            "78\n",
            "81\n",
            "84\n",
            "87\n",
            "90\n",
            "93\n",
            "96\n",
            "99\n"
          ]
        }
      ]
    },
    {
      "cell_type": "code",
      "source": [
        "for i in range (12,100,3):  #perulangan dimulai dari angka 12 sampai kurang dari 100 dengan kelipatan sebanyak 3\n",
        "  print(i, end= ' ' )"
      ],
      "metadata": {
        "colab": {
          "base_uri": "https://localhost:8080/"
        },
        "id": "2UVDbtOf66cn",
        "outputId": "1dd72728-f594-409c-8359-e9e5cca654ee"
      },
      "execution_count": null,
      "outputs": [
        {
          "output_type": "stream",
          "name": "stdout",
          "text": [
            "12 15 18 21 24 27 30 33 36 39 42 45 48 51 54 57 60 63 66 69 72 75 78 81 84 87 90 93 96 99 "
          ]
        }
      ]
    },
    {
      "cell_type": "markdown",
      "source": [
        "**Nomor 4**"
      ],
      "metadata": {
        "id": "JIkLyRbY0uL_"
      }
    },
    {
      "cell_type": "code",
      "source": [
        "l = ''\n",
        "for i in range (1,6):\n",
        "  l += str(i)+''\n",
        "  print(l)"
      ],
      "metadata": {
        "colab": {
          "base_uri": "https://localhost:8080/"
        },
        "id": "1tnSPriX0xAZ",
        "outputId": "928f67cb-28c0-46c0-8224-bc11b7bca1f3"
      },
      "execution_count": null,
      "outputs": [
        {
          "output_type": "stream",
          "name": "stdout",
          "text": [
            "1\n",
            "12\n",
            "123\n",
            "1234\n",
            "12345\n"
          ]
        }
      ]
    },
    {
      "cell_type": "markdown",
      "source": [
        "**Nomor 5**"
      ],
      "metadata": {
        "id": "YTuaWUOE0zER"
      }
    },
    {
      "cell_type": "code",
      "source": [
        "from prettytable import PrettyTable\n",
        "laporan_nilai = PrettyTable([\"No.\", \"Nama Mhs\", \"N.Tugas\", \"N.Kuis\", \"N.UTS\", \"N.UAS\", \"NilaiAkhir\"])\n",
        "laporan_nilai.add_row([\"1\", \" \", \" \", \" \", \" \", \" \", \" \"])\n",
        "laporan_nilai.add_row([\"2\", \" \", \" \", \" \", \" \", \" \", \" \"])\n",
        "laporan_nilai.add_row([\"..\", \" \", \" \", \" \", \" \", \" \", \" \"])\n",
        "laporan_nilai.add_row([\"N\", \" \", \" \", \" \", \" \", \" \", \" \"])\n",
        "print(laporan_nilai)"
      ],
      "metadata": {
        "id": "Jq_l5oGABr0v",
        "colab": {
          "base_uri": "https://localhost:8080/"
        },
        "outputId": "84cf10dd-6f6a-4ccf-af29-83b1024c1075"
      },
      "execution_count": 50,
      "outputs": [
        {
          "output_type": "stream",
          "name": "stdout",
          "text": [
            "+-----+----------+---------+--------+-------+-------+------------+\n",
            "| No. | Nama Mhs | N.Tugas | N.Kuis | N.UTS | N.UAS | NilaiAkhir |\n",
            "+-----+----------+---------+--------+-------+-------+------------+\n",
            "|  1  |          |         |        |       |       |            |\n",
            "|  2  |          |         |        |       |       |            |\n",
            "|  .. |          |         |        |       |       |            |\n",
            "|  N  |          |         |        |       |       |            |\n",
            "+-----+----------+---------+--------+-------+-------+------------+\n"
          ]
        }
      ]
    }
  ]
}
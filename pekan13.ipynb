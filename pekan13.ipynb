{
  "nbformat": 4,
  "nbformat_minor": 0,
  "metadata": {
    "colab": {
      "name": "pekan13.ipynb",
      "provenance": [],
      "collapsed_sections": [],
      "authorship_tag": "ABX9TyNgliG5XhFrEzKeYfJ1T2Og",
      "include_colab_link": true
    },
    "kernelspec": {
      "name": "python3",
      "display_name": "Python 3"
    },
    "language_info": {
      "name": "python"
    }
  },
  "cells": [
    {
      "cell_type": "markdown",
      "metadata": {
        "id": "view-in-github",
        "colab_type": "text"
      },
      "source": [
        "<a href=\"https://colab.research.google.com/github/ummaayyy/Tugas-pekan-13/blob/main/pekan13.ipynb\" target=\"_parent\"><img src=\"https://colab.research.google.com/assets/colab-badge.svg\" alt=\"Open In Colab\"/></a>"
      ]
    },
    {
      "cell_type": "markdown",
      "source": [
        ""
      ],
      "metadata": {
        "id": "B-jq6q-aiPyu"
      }
    },
    {
      "cell_type": "code",
      "source": [
        "for i in range(1,101,1):\n",
        "  print(i, end= ' ' )"
      ],
      "metadata": {
        "colab": {
          "base_uri": "https://localhost:8080/"
        },
        "id": "zPXCnNhZg_yW",
        "outputId": "6d002fec-9e52-42df-a5d5-59e0907b146d"
      },
      "execution_count": null,
      "outputs": [
        {
          "output_type": "stream",
          "name": "stdout",
          "text": [
            "1 2 3 4 5 6 7 8 9 10 11 12 13 14 15 16 17 18 19 20 21 22 23 24 25 26 27 28 29 30 31 32 33 34 35 36 37 38 39 40 41 42 43 44 45 46 47 48 49 50 51 52 53 54 55 56 57 58 59 60 61 62 63 64 65 66 67 68 69 70 71 72 73 74 75 76 77 78 79 80 81 82 83 84 85 86 87 88 89 90 91 92 93 94 95 96 97 98 99 100 "
          ]
        }
      ]
    },
    {
      "cell_type": "code",
      "source": [
        "for i in range(1,5,1):\n",
        "  print(i, end= ' ' )"
      ],
      "metadata": {
        "colab": {
          "base_uri": "https://localhost:8080/"
        },
        "id": "1hVSy0xuhMcF",
        "outputId": "573d7984-7827-45e9-f2c0-50e912dad17c"
      },
      "execution_count": null,
      "outputs": [
        {
          "output_type": "stream",
          "name": "stdout",
          "text": [
            "1 2 3 4 "
          ]
        }
      ]
    },
    {
      "cell_type": "code",
      "source": [
        "for i in range(1,6,2):\n",
        "  print(i, end= ' ' )"
      ],
      "metadata": {
        "colab": {
          "base_uri": "https://localhost:8080/"
        },
        "id": "01At5p8GhP-h",
        "outputId": "d3c1b7a7-5049-4175-c283-d6b3f7b9c8af"
      },
      "execution_count": null,
      "outputs": [
        {
          "output_type": "stream",
          "name": "stdout",
          "text": [
            "1 3 5 "
          ]
        }
      ]
    },
    {
      "cell_type": "code",
      "source": [
        "for i in range(1,101,1):\n",
        "  print(i)"
      ],
      "metadata": {
        "colab": {
          "base_uri": "https://localhost:8080/"
        },
        "id": "TVTtUrcGhZeX",
        "outputId": "5f7092d2-4380-4aa6-b41a-2310e38af7ce"
      },
      "execution_count": null,
      "outputs": [
        {
          "output_type": "stream",
          "name": "stdout",
          "text": [
            "1\n",
            "2\n",
            "3\n",
            "4\n",
            "5\n",
            "6\n",
            "7\n",
            "8\n",
            "9\n",
            "10\n",
            "11\n",
            "12\n",
            "13\n",
            "14\n",
            "15\n",
            "16\n",
            "17\n",
            "18\n",
            "19\n",
            "20\n",
            "21\n",
            "22\n",
            "23\n",
            "24\n",
            "25\n",
            "26\n",
            "27\n",
            "28\n",
            "29\n",
            "30\n",
            "31\n",
            "32\n",
            "33\n",
            "34\n",
            "35\n",
            "36\n",
            "37\n",
            "38\n",
            "39\n",
            "40\n",
            "41\n",
            "42\n",
            "43\n",
            "44\n",
            "45\n",
            "46\n",
            "47\n",
            "48\n",
            "49\n",
            "50\n",
            "51\n",
            "52\n",
            "53\n",
            "54\n",
            "55\n",
            "56\n",
            "57\n",
            "58\n",
            "59\n",
            "60\n",
            "61\n",
            "62\n",
            "63\n",
            "64\n",
            "65\n",
            "66\n",
            "67\n",
            "68\n",
            "69\n",
            "70\n",
            "71\n",
            "72\n",
            "73\n",
            "74\n",
            "75\n",
            "76\n",
            "77\n",
            "78\n",
            "79\n",
            "80\n",
            "81\n",
            "82\n",
            "83\n",
            "84\n",
            "85\n",
            "86\n",
            "87\n",
            "88\n",
            "89\n",
            "90\n",
            "91\n",
            "92\n",
            "93\n",
            "94\n",
            "95\n",
            "96\n",
            "97\n",
            "98\n",
            "99\n",
            "100\n"
          ]
        }
      ]
    },
    {
      "cell_type": "code",
      "source": [
        "awal = int(input('Set Nilai Awal = '))\n",
        "akhir = int(input('Set Nilai Akhir = '))\n",
        "\n",
        "count = 0\n",
        "summ = 0\n",
        "\n",
        "print('Bilangan antara %d dan %d' %(awal,akhir))\n",
        "\n",
        "for i in range (awal, akhir+1) :\n",
        "  print (i, end=' ')\n",
        "  count = count+1\n",
        "  summ = summ+i\n",
        "\n",
        "print('Bilangan di atas ada %d bilangan' %count)\n",
        "print('Jumlah semua bilangan adalah %d' %summ)"
      ],
      "metadata": {
        "colab": {
          "base_uri": "https://localhost:8080/"
        },
        "id": "Fo9EqIGQhlju",
        "outputId": "48310366-aa23-4455-ed52-c099892109b0"
      },
      "execution_count": null,
      "outputs": [
        {
          "output_type": "stream",
          "name": "stdout",
          "text": [
            "Set Nilai Awal = 15\n",
            "Set Nilai Akhir = 20\n",
            "Bilangan antara 15 dan 20\n",
            "15 16 17 18 19 20 Bilangan di atas ada 6 bilangan\n",
            "Jumlah semua bilangan adalah 105\n"
          ]
        }
      ]
    },
    {
      "cell_type": "code",
      "source": [
        "awal = int(input('Set Nilai Awal = '))\n",
        "akhir = int(input('Set Nilai Akhir = '))\n",
        "\n",
        "times = 1\n",
        "\n",
        "for i in range (awal, akhir+1, 3) :\n",
        "  print (i, end=' ')\n",
        "  count = count+1\n",
        "  times = times*i\n",
        "\n",
        "print('Hasil perkalian seluruh bilangan adalah %d' %times)"
      ],
      "metadata": {
        "colab": {
          "base_uri": "https://localhost:8080/"
        },
        "id": "FYrv5f3Qol9C",
        "outputId": "90484885-26fb-4169-b77e-0aa8036b912f"
      },
      "execution_count": null,
      "outputs": [
        {
          "output_type": "stream",
          "name": "stdout",
          "text": [
            "Set Nilai Awal = 15\n",
            "Set Nilai Akhir = 20\n",
            "15 18 Hasil perkalian seluruh bilangan adalah 270\n"
          ]
        }
      ]
    },
    {
      "cell_type": "code",
      "source": [
        "for x in range(1,3):\n",
        "    for y in range(1,3):\n",
        "        print(x,y, x*y)"
      ],
      "metadata": {
        "colab": {
          "base_uri": "https://localhost:8080/"
        },
        "id": "KO-4pix8pMmT",
        "outputId": "132d095b-875d-4fe4-920e-a195ac7ff628"
      },
      "execution_count": null,
      "outputs": [
        {
          "output_type": "stream",
          "name": "stdout",
          "text": [
            "1 1 1\n",
            "1 2 2\n",
            "2 1 2\n",
            "2 2 4\n"
          ]
        }
      ]
    },
    {
      "cell_type": "code",
      "source": [
        "for x in range(2,5):\n",
        "    for y in range(2,5):\n",
        "        print(x,y, x*y)"
      ],
      "metadata": {
        "colab": {
          "base_uri": "https://localhost:8080/"
        },
        "id": "-US6-ywUrzDJ",
        "outputId": "a35708c8-90a1-4fdb-a8a0-9eb994e3b5ab"
      },
      "execution_count": null,
      "outputs": [
        {
          "output_type": "stream",
          "name": "stdout",
          "text": [
            "2 2 4\n",
            "2 3 6\n",
            "2 4 8\n",
            "3 2 6\n",
            "3 3 9\n",
            "3 4 12\n",
            "4 2 8\n",
            "4 3 12\n",
            "4 4 16\n"
          ]
        }
      ]
    },
    {
      "cell_type": "code",
      "source": [
        "banyakMhs = int(input('Banyak Mahasiswa : '))\n",
        "for M in range (banyakMhs):\n",
        "    print('Mahasiswa ke-', M+1)\n",
        "    banyakMK = int(input('Banyak Matakuliah yang diambil : '))\n",
        "    totalnilai = 0\n",
        "    for N in range (banyakMK):\n",
        "        nilai = int(input('Input Nilai ke %d :' %(N+1)))\n",
        "        totalnilai = totalnilai+nilai\n",
        "    rerata = totalnilai/banyakMK\n",
        "    print('Rata-Rata : ', rerata)"
      ],
      "metadata": {
        "colab": {
          "base_uri": "https://localhost:8080/"
        },
        "id": "-QiiuOTVr4fZ",
        "outputId": "23da33f7-d082-4528-8ec0-677be99f5f9c"
      },
      "execution_count": null,
      "outputs": [
        {
          "output_type": "stream",
          "name": "stdout",
          "text": [
            "Banyak Mahasiswa : 3\n",
            "Mahasiswa ke- 1\n",
            "Banyak Matakuliah yang diambil : 4\n",
            "Input Nilai ke 1 :88\n",
            "Input Nilai ke 2 :80\n",
            "Input Nilai ke 3 :90\n",
            "Input Nilai ke 4 :85\n",
            "Rata-Rata :  85.75\n",
            "Mahasiswa ke- 2\n",
            "Banyak Matakuliah yang diambil : 3\n",
            "Input Nilai ke 1 :90\n",
            "Input Nilai ke 2 :89\n",
            "Input Nilai ke 3 :91\n",
            "Rata-Rata :  90.0\n",
            "Mahasiswa ke- 3\n",
            "Banyak Matakuliah yang diambil : 2\n",
            "Input Nilai ke 1 :93\n",
            "Input Nilai ke 2 :88\n",
            "Rata-Rata :  90.5\n"
          ]
        }
      ]
    },
    {
      "cell_type": "code",
      "source": [
        "for i in [12,16,17,24,29]:\n",
        "  if i % 2 == 1: #jikabilanganganjil\n",
        "    break #\n",
        "  print(i)\n",
        "print(\"selesai\")"
      ],
      "metadata": {
        "colab": {
          "base_uri": "https://localhost:8080/"
        },
        "id": "ng4V0hL3wPs2",
        "outputId": "c4f7499f-6984-4517-85dd-9a6b250002ad"
      },
      "execution_count": null,
      "outputs": [
        {
          "output_type": "stream",
          "name": "stdout",
          "text": [
            "12\n",
            "16\n",
            "selesai\n"
          ]
        }
      ]
    }
  ]
}